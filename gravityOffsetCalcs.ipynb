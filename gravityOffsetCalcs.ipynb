{
 "cells": [
  {
   "cell_type": "code",
   "execution_count": 16,
   "id": "fb159d08-ad81-4da1-99e7-9cd274079646",
   "metadata": {},
   "outputs": [],
   "source": [
    "import numpy as np\n",
    "import argparse\n",
    "import os\n",
    "from  scipy.spatial.transform import Rotation as R"
   ]
  },
  {
   "cell_type": "code",
   "execution_count": 18,
   "id": "a2f8dddc-c49c-4743-bb93-1f12005c3a2e",
   "metadata": {},
   "outputs": [],
   "source": [
    "def rotate(accelerationVector, quaternion):\n",
    "    r = R.from_quat(quaternion)\n",
    "    rotatedA = r.apply(accelerationVector)\n",
    "    return rotatedA"
   ]
  },
  {
   "cell_type": "code",
   "execution_count": 4,
   "id": "0fb2e309-c9b3-4463-9d7a-d2ccc7f04885",
   "metadata": {},
   "outputs": [],
   "source": [
    "#parser = argparse.ArgumentParser()\n",
    "#parser.add_argument('--filepath', '-f', type=str, help='The filepath of the desired ####_flightlog.bin', required=True)\n",
    "#parser.add_argument('--numpy', '-n', action='store_true', dest='numpy_output')\n",
    "#args = parser.parse_args()"
   ]
  },
  {
   "cell_type": "code",
   "execution_count": 21,
   "id": "a9084988-2ba1-4d9d-9179-f928f4bd90cd",
   "metadata": {},
   "outputs": [],
   "source": [
    "filepath = 'packet_data.npy'"
   ]
  },
  {
   "cell_type": "code",
   "execution_count": 68,
   "id": "00be13d3",
   "metadata": {},
   "outputs": [],
   "source": [
    "data = np.load(filepath)\n",
    "rot_data = []\n",
    "gravity = [0, 0, -9.8]"
   ]
  },
  {
   "cell_type": "code",
   "execution_count": 69,
   "id": "e5d43c4a",
   "metadata": {},
   "outputs": [],
   "source": [
    "\n",
    "for i in range(len(data)):\n",
    "   quaternion = data[i, 24:28]\n",
    "   rot_data.append(rotate(gravity, quaternion))\n"
   ]
  },
  {
   "cell_type": "code",
   "execution_count": null,
   "id": "e1aca396",
   "metadata": {},
   "outputs": [],
   "source": []
  }
 ],
 "metadata": {
  "kernelspec": {
   "display_name": "Python 3 (ipykernel)",
   "language": "python",
   "name": "python3"
  },
  "language_info": {
   "codemirror_mode": {
    "name": "ipython",
    "version": 3
   },
   "file_extension": ".py",
   "mimetype": "text/x-python",
   "name": "python",
   "nbconvert_exporter": "python",
   "pygments_lexer": "ipython3",
   "version": "3.9.19"
  }
 },
 "nbformat": 4,
 "nbformat_minor": 5
}
